{
 "cells": [
  {
   "cell_type": "markdown",
   "id": "fd224307",
   "metadata": {},
   "source": [
    "# Question 1"
   ]
  },
  {
   "cell_type": "markdown",
   "id": "31867640",
   "metadata": {},
   "source": [
    "Print a specific timestamp: 14:42:05.000566."
   ]
  },
  {
   "cell_type": "code",
   "execution_count": null,
   "id": "e98d4b3e",
   "metadata": {},
   "outputs": [],
   "source": [
    "# import pandas as pd\n",
    "from datetime import time\n",
    "t = time(14,42,5,566)\n",
    "\n",
    "print(\"Hour\", t.hour)\n",
    "print(\"Minute\", t.minute)\n",
    "print(\"Second\", t.second)\n"
   ]
  },
  {
   "cell_type": "markdown",
   "id": "7a74f426",
   "metadata": {},
   "source": [
    "# Questions 2"
   ]
  },
  {
   "cell_type": "markdown",
   "id": "3be325e5",
   "metadata": {},
   "source": [
    "Print a specific date and timestamp: 2019/01/28 23:55:59.1023"
   ]
  },
  {
   "cell_type": "code",
   "execution_count": 9,
   "id": "58debc69",
   "metadata": {},
   "outputs": [
    {
     "name": "stdout",
     "output_type": "stream",
     "text": [
      "Year 2019\n",
      "Month 1\n",
      "Date 28\n",
      "Hour 23\n",
      "Minute 55\n",
      "Second 59\n"
     ]
    }
   ],
   "source": [
    "from datetime import datetime\n",
    "dt = datetime(2019,1,28,23,55,59,1023)\n",
    "\n",
    "print(\"Year\", dt.year)\n",
    "print(\"Month\", dt.month)\n",
    "print(\"Date\", dt.day)\n",
    "print(\"Hour\", dt.hour)\n",
    "print(\"Minute\", dt.minute)\n",
    "print(\"Second\", dt.second)"
   ]
  },
  {
   "cell_type": "markdown",
   "id": "451c5caa",
   "metadata": {},
   "source": [
    "# Question 3"
   ]
  },
  {
   "cell_type": "markdown",
   "id": "531396ab",
   "metadata": {},
   "source": [
    "Print today's date (current day)."
   ]
  },
  {
   "cell_type": "code",
   "execution_count": 22,
   "id": "7b8c7b3d",
   "metadata": {},
   "outputs": [
    {
     "name": "stdout",
     "output_type": "stream",
     "text": [
      "Year 2022\n",
      "Month 10\n",
      "Date 9\n"
     ]
    }
   ],
   "source": [
    "from datetime import date\n",
    "today = date.today()\n",
    "print(\"Year\", today.year)\n",
    "print(\"Month\", today.month)\n",
    "print(\"Date\", today.day)"
   ]
  },
  {
   "cell_type": "markdown",
   "id": "63bcce00",
   "metadata": {},
   "source": [
    "\n",
    "# Question 4"
   ]
  },
  {
   "cell_type": "markdown",
   "id": "6b273694",
   "metadata": {},
   "source": [
    "Print a day from a datetime object: 28 January 2017"
   ]
  },
  {
   "cell_type": "code",
   "execution_count": 29,
   "id": "44fa66b8",
   "metadata": {},
   "outputs": [
    {
     "name": "stdout",
     "output_type": "stream",
     "text": [
      "date_object = 2017-01-28 00:00:00\n"
     ]
    },
    {
     "data": {
      "text/plain": [
       "'Saturday'"
      ]
     },
     "execution_count": 29,
     "metadata": {},
     "output_type": "execute_result"
    }
   ],
   "source": [
    "from datetime import datetime\n",
    "date_string = \"28 January 2017\"\n",
    "date_object = datetime.strptime(date_string, \"%d %B %Y\") \n",
    "print(\"date_object =\", date_object) \n",
    "\n",
    "day = datetime(2017, 1, 28)\n",
    "day.strftime('%A')"
   ]
  },
  {
   "cell_type": "markdown",
   "id": "9ed63a65",
   "metadata": {},
   "source": [
    "# Question 5 "
   ]
  },
  {
   "cell_type": "markdown",
   "id": "18c2fc00",
   "metadata": {},
   "source": [
    " The name of the month and day for the ranges of dates between 2008-01-01 and 2008-03-01"
   ]
  },
  {
   "cell_type": "code",
   "execution_count": 38,
   "id": "9e19dabe",
   "metadata": {},
   "outputs": [
    {
     "data": {
      "text/html": [
       "<div>\n",
       "<style scoped>\n",
       "    .dataframe tbody tr th:only-of-type {\n",
       "        vertical-align: middle;\n",
       "    }\n",
       "\n",
       "    .dataframe tbody tr th {\n",
       "        vertical-align: top;\n",
       "    }\n",
       "\n",
       "    .dataframe thead th {\n",
       "        text-align: right;\n",
       "    }\n",
       "</style>\n",
       "<table border=\"1\" class=\"dataframe\">\n",
       "  <thead>\n",
       "    <tr style=\"text-align: right;\">\n",
       "      <th></th>\n",
       "      <th>Date</th>\n",
       "      <th>Week Day</th>\n",
       "      <th>Day name</th>\n",
       "      <th>Month</th>\n",
       "    </tr>\n",
       "  </thead>\n",
       "  <tbody>\n",
       "    <tr>\n",
       "      <th>0</th>\n",
       "      <td>2008-01-01</td>\n",
       "      <td>1</td>\n",
       "      <td>Tuesday</td>\n",
       "      <td>January</td>\n",
       "    </tr>\n",
       "    <tr>\n",
       "      <th>1</th>\n",
       "      <td>2008-01-02</td>\n",
       "      <td>2</td>\n",
       "      <td>Wednesday</td>\n",
       "      <td>January</td>\n",
       "    </tr>\n",
       "    <tr>\n",
       "      <th>2</th>\n",
       "      <td>2008-01-03</td>\n",
       "      <td>3</td>\n",
       "      <td>Thursday</td>\n",
       "      <td>January</td>\n",
       "    </tr>\n",
       "    <tr>\n",
       "      <th>3</th>\n",
       "      <td>2008-01-04</td>\n",
       "      <td>4</td>\n",
       "      <td>Friday</td>\n",
       "      <td>January</td>\n",
       "    </tr>\n",
       "    <tr>\n",
       "      <th>4</th>\n",
       "      <td>2008-01-05</td>\n",
       "      <td>5</td>\n",
       "      <td>Saturday</td>\n",
       "      <td>January</td>\n",
       "    </tr>\n",
       "    <tr>\n",
       "      <th>...</th>\n",
       "      <td>...</td>\n",
       "      <td>...</td>\n",
       "      <td>...</td>\n",
       "      <td>...</td>\n",
       "    </tr>\n",
       "    <tr>\n",
       "      <th>56</th>\n",
       "      <td>2008-02-26</td>\n",
       "      <td>1</td>\n",
       "      <td>Tuesday</td>\n",
       "      <td>February</td>\n",
       "    </tr>\n",
       "    <tr>\n",
       "      <th>57</th>\n",
       "      <td>2008-02-27</td>\n",
       "      <td>2</td>\n",
       "      <td>Wednesday</td>\n",
       "      <td>February</td>\n",
       "    </tr>\n",
       "    <tr>\n",
       "      <th>58</th>\n",
       "      <td>2008-02-28</td>\n",
       "      <td>3</td>\n",
       "      <td>Thursday</td>\n",
       "      <td>February</td>\n",
       "    </tr>\n",
       "    <tr>\n",
       "      <th>59</th>\n",
       "      <td>2008-02-29</td>\n",
       "      <td>4</td>\n",
       "      <td>Friday</td>\n",
       "      <td>February</td>\n",
       "    </tr>\n",
       "    <tr>\n",
       "      <th>60</th>\n",
       "      <td>2008-03-01</td>\n",
       "      <td>5</td>\n",
       "      <td>Saturday</td>\n",
       "      <td>March</td>\n",
       "    </tr>\n",
       "  </tbody>\n",
       "</table>\n",
       "<p>61 rows × 4 columns</p>\n",
       "</div>"
      ],
      "text/plain": [
       "         Date  Week Day   Day name     Month\n",
       "0  2008-01-01         1    Tuesday   January\n",
       "1  2008-01-02         2  Wednesday   January\n",
       "2  2008-01-03         3   Thursday   January\n",
       "3  2008-01-04         4     Friday   January\n",
       "4  2008-01-05         5   Saturday   January\n",
       "..        ...       ...        ...       ...\n",
       "56 2008-02-26         1    Tuesday  February\n",
       "57 2008-02-27         2  Wednesday  February\n",
       "58 2008-02-28         3   Thursday  February\n",
       "59 2008-02-29         4     Friday  February\n",
       "60 2008-03-01         5   Saturday     March\n",
       "\n",
       "[61 rows x 4 columns]"
      ]
     },
     "execution_count": 38,
     "metadata": {},
     "output_type": "execute_result"
    }
   ],
   "source": [
    "dr = pd.date_range(start = '2008-01-01', end = '2008-03-01')\n",
    "df = pd.DataFrame()\n",
    "df['Date'] = dr\n",
    "df['Week Day'] = pd.to_datetime(dr).weekday\n",
    "df['Day name'] = pd.to_datetime(dr).strftime('%A')\n",
    "df['Month'] = pd.to_datetime(dr).strftime('%B')\n",
    "df\n"
   ]
  },
  {
   "cell_type": "code",
   "execution_count": null,
   "id": "94c53899",
   "metadata": {},
   "outputs": [],
   "source": []
  }
 ],
 "metadata": {
  "kernelspec": {
   "display_name": "Python 3 (ipykernel)",
   "language": "python",
   "name": "python3"
  },
  "language_info": {
   "codemirror_mode": {
    "name": "ipython",
    "version": 3
   },
   "file_extension": ".py",
   "mimetype": "text/x-python",
   "name": "python",
   "nbconvert_exporter": "python",
   "pygments_lexer": "ipython3",
   "version": "3.9.12"
  }
 },
 "nbformat": 4,
 "nbformat_minor": 5
}
